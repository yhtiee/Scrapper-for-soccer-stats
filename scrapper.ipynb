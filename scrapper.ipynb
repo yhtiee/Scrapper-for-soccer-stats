{
 "cells": [
  {
   "cell_type": "code",
   "execution_count": 3,
   "metadata": {},
   "outputs": [
    {
     "name": "stdout",
     "output_type": "stream",
     "text": [
      "<Response [200]>\n"
     ]
    }
   ],
   "source": [
    "import requests\n",
    "from bs4 import BeautifulSoup\n",
    "url= \"https://www.soccerstats.com/formtable.asp?league=england\"\n",
    "response= requests.get(url)\n",
    "print (response)\n",
    "soup = BeautifulSoup(response.content,\"html.parser\")"
   ]
  },
  {
   "cell_type": "code",
   "execution_count": 97,
   "metadata": {},
   "outputs": [
    {
     "name": "stdout",
     "output_type": "stream",
     "text": [
      "GP W D L GF GA Pts\n"
     ]
    }
   ],
   "source": [
    "table = soup.find_all(id=\"btable\")\n",
    "x = table[0].find(\"tr\").text\n",
    "new_x = x.replace(\"\\n\", \"\").replace(\"\\xa0\", \"\")\n",
    "print(new_x[0:2], new_x[2], new_x[3], new_x[4], new_x[5:7], new_x[7:9], new_x[11:14])"
   ]
  },
  {
   "cell_type": "code",
   "execution_count": 124,
   "metadata": {},
   "outputs": [],
   "source": [
    "info = []\n",
    "data={}"
   ]
  },
  {
   "cell_type": "code",
   "execution_count": 130,
   "metadata": {},
   "outputs": [],
   "source": [
    "import json\n",
    "for x in range(0,20):\n",
    "    table = soup.find_all(class_=\"odd\")\n",
    "    a = table[x].find_all(\"td\")\n",
    "\n",
    "    b =a[0].text\n",
    "    t =a[1].text\n",
    "    gp = a[2].text\n",
    "    w = a[3].text\n",
    "    d = a[4].text\n",
    "    l = a[5].text\n",
    "    gf = a[6].text\n",
    "    ga = a[7].text\n",
    "    gd = a[8].text\n",
    "    ps = a[9].text\n",
    "\n",
    "    pos = b.replace(\"\\n\", \"\").replace(\"\\xa0\", \"\")\n",
    "    team = t.replace(\"\\n\", \"\").replace(\"\\xa0\", \"\")\n",
    "    game_played = gp.replace(\"\\n\", \"\").replace(\"\\xa0\", \"\")\n",
    "    wins = w.replace(\"\\n\", \"\").replace(\"\\xa0\", \"\")\n",
    "    draws = d.replace(\"\\n\", \"\").replace(\"\\xa0\", \"\")\n",
    "    loss = l.replace(\"\\n\", \"\").replace(\"\\xa0\", \"\")\n",
    "    goals_for = gf.replace(\"\\n\", \"\").replace(\"\\xa0\", \"\")\n",
    "    goals_against = ga.replace(\"\\n\", \"\").replace(\"\\xa0\", \"\")\n",
    "    goals_difference = gd.replace(\"\\n\", \"\").replace(\"\\xa0\", \"\")\n",
    "    points = ps.replace(\"\\n\", \"\").replace(\"\\xa0\", \"\")\n",
    "\n",
    "    data[\"POS\"] = pos\n",
    "    data[\"TEAM\"] = team\n",
    "    data[\"GP\"] = game_played\n",
    "    data[\"W\"] = wins\n",
    "    data[\"D\"] = draws\n",
    "    data[\"L\"] = loss\n",
    "    data[\"GF\"] = goals_for\n",
    "    data[\"GA\"] = goals_against\n",
    "    data[\"GD\"] = goals_difference\n",
    "    data[\"PTS\"] = points\n",
    "    # print(data)\n",
    "\n",
    "    file = open(\"form.json\", mode=\"a\")\n",
    "    new_data = json.dumps(data)\n",
    "    file.write(f\"{new_data}\\n\")\n",
    "    file.close()\n",
    "\n",
    "\n"
   ]
  },
  {
   "cell_type": "code",
   "execution_count": 132,
   "metadata": {},
   "outputs": [],
   "source": [
    "import pandas as pd\n",
    "import json\n",
    "\n",
    "def parse(path):\n",
    "  g = open(path, 'rb')\n",
    "  for l in g:\n",
    "    yield json.loads(l)\n",
    "\n",
    "def getDF(path):\n",
    "  i = 0\n",
    "  df = {}\n",
    "  for d in parse(path):\n",
    "    df[i] = d\n",
    "    i += 1\n",
    "  return pd.DataFrame.from_dict(df, orient='index')\n",
    "\n",
    "newdf = getDF(\"form.json\")\n",
    "newdf.to_csv(\"form.csv\", index=True)"
   ]
  },
  {
   "cell_type": "code",
   "execution_count": 207,
   "metadata": {},
   "outputs": [
    {
     "name": "stdout",
     "output_type": "stream",
     "text": [
      "<Response [200]>\n"
     ]
    }
   ],
   "source": [
    "import requests\n",
    "from bs4 import BeautifulSoup\n",
    "url= \"https://www.soccerstats.com/homeaway.asp?league=england\"\n",
    "response= requests.get(url)\n",
    "print (response)\n",
    "soup = BeautifulSoup(response.content,\"html.parser\")"
   ]
  },
  {
   "cell_type": "code",
   "execution_count": 254,
   "metadata": {},
   "outputs": [],
   "source": [
    "table = soup.find_all(id=\"btable\")\n",
    "a = table[0].find_all(\"tr\")\n",
    "data={}\n",
    "for x in range(1, 21):\n",
    "    b = a[x].find_all(\"td\")\n",
    "    k =b[0].text\n",
    "    t =b[1].text\n",
    "    gp = b[2].text\n",
    "    w = b[3].text\n",
    "    d = b[4].text\n",
    "    l = b[5].text\n",
    "    gf = b[6].text\n",
    "    ga = b[7].text\n",
    "    gd = b[8].text\n",
    "    ps = b[9].text\n",
    "\n",
    "    pos = k.replace(\"\\n\", \"\").replace(\"\\xa0\", \"\")\n",
    "    team = t.replace(\"\\n\", \"\").replace(\"\\xa0\", \"\")\n",
    "    game_played = gp.replace(\"\\n\", \"\").replace(\"\\xa0\", \"\")\n",
    "    wins = w.replace(\"\\n\", \"\").replace(\"\\xa0\", \"\")\n",
    "    draws = d.replace(\"\\n\", \"\").replace(\"\\xa0\", \"\")\n",
    "    loss = l.replace(\"\\n\", \"\").replace(\"\\xa0\", \"\")\n",
    "    goals_for = gf.replace(\"\\n\", \"\").replace(\"\\xa0\", \"\")\n",
    "    goals_against = ga.replace(\"\\n\", \"\").replace(\"\\xa0\", \"\")\n",
    "    goals_difference = gd.replace(\"\\n\", \"\").replace(\"\\xa0\", \"\")\n",
    "    points = ps.replace(\"\\n\", \"\").replace(\"\\xa0\", \"\")\n",
    "\n",
    "    data[\"POS\"] = pos\n",
    "    data[\"TEAM\"] = team\n",
    "    data[\"GP\"] = game_played\n",
    "    data[\"W\"] = wins\n",
    "    data[\"D\"] = draws\n",
    "    data[\"L\"] = loss\n",
    "    data[\"GF\"] = goals_for\n",
    "    data[\"GA\"] = goals_against\n",
    "    data[\"GD\"] = goals_difference\n",
    "    data[\"PTS\"] = points\n",
    "\n",
    "    file = open(\"home_table.json\", mode=\"a\")\n",
    "    new_data = json.dumps(data)\n",
    "    file.write(f\"{new_data}\\n\")\n",
    "    file.close()\n"
   ]
  },
  {
   "cell_type": "code",
   "execution_count": 255,
   "metadata": {},
   "outputs": [],
   "source": [
    "import pandas as pd\n",
    "import json\n",
    "\n",
    "def parse(path):\n",
    "  g = open(path, 'rb')\n",
    "  for l in g:\n",
    "    yield json.loads(l)\n",
    "\n",
    "def getDF(path):\n",
    "  i = 0\n",
    "  df = {}\n",
    "  for d in parse(path):\n",
    "    df[i] = d\n",
    "    i += 1\n",
    "  return pd.DataFrame.from_dict(df, orient='index')\n",
    "\n",
    "newdf = getDF(\"home_table.json\")\n",
    "newdf.to_csv(\"home_table.csv\", index=True)"
   ]
  },
  {
   "cell_type": "code",
   "execution_count": 256,
   "metadata": {},
   "outputs": [],
   "source": [
    "table = soup.find_all(id=\"btable\")\n",
    "a = table[1].find_all(\"tr\")\n",
    "data={}\n",
    "for x in range(1, 21):\n",
    "    b = a[x].find_all(\"td\")\n",
    "    k =b[0].text\n",
    "    t =b[1].text\n",
    "    gp = b[2].text\n",
    "    w = b[3].text\n",
    "    d = b[4].text\n",
    "    l = b[5].text\n",
    "    gf = b[6].text\n",
    "    ga = b[7].text\n",
    "    gd = b[8].text\n",
    "    ps = b[9].text\n",
    "\n",
    "    pos = k.replace(\"\\n\", \"\").replace(\"\\xa0\", \"\")\n",
    "    team = t.replace(\"\\n\", \"\").replace(\"\\xa0\", \"\")\n",
    "    game_played = gp.replace(\"\\n\", \"\").replace(\"\\xa0\", \"\")\n",
    "    wins = w.replace(\"\\n\", \"\").replace(\"\\xa0\", \"\")\n",
    "    draws = d.replace(\"\\n\", \"\").replace(\"\\xa0\", \"\")\n",
    "    loss = l.replace(\"\\n\", \"\").replace(\"\\xa0\", \"\")\n",
    "    goals_for = gf.replace(\"\\n\", \"\").replace(\"\\xa0\", \"\")\n",
    "    goals_against = ga.replace(\"\\n\", \"\").replace(\"\\xa0\", \"\")\n",
    "    goals_difference = gd.replace(\"\\n\", \"\").replace(\"\\xa0\", \"\")\n",
    "    points = ps.replace(\"\\n\", \"\").replace(\"\\xa0\", \"\")\n",
    "\n",
    "    data[\"POS\"] = pos\n",
    "    data[\"TEAM\"] = team\n",
    "    data[\"GP\"] = game_played\n",
    "    data[\"W\"] = wins\n",
    "    data[\"D\"] = draws\n",
    "    data[\"L\"] = loss\n",
    "    data[\"GF\"] = goals_for\n",
    "    data[\"GA\"] = goals_against\n",
    "    data[\"GD\"] = goals_difference\n",
    "    data[\"PTS\"] = points\n",
    "\n",
    "    file = open(\"away_table.json\", mode=\"a\")\n",
    "    new_data = json.dumps(data)\n",
    "    file.write(f\"{new_data}\\n\")\n",
    "    file.close()\n"
   ]
  },
  {
   "cell_type": "code",
   "execution_count": null,
   "metadata": {},
   "outputs": [],
   "source": [
    "newdf = getDF(\"away_table.json\")\n",
    "newdf.to_csv(\"away_table.csv\", index=True)"
   ]
  }
 ],
 "metadata": {
  "kernelspec": {
   "display_name": "Python 3",
   "language": "python",
   "name": "python3"
  },
  "language_info": {
   "codemirror_mode": {
    "name": "ipython",
    "version": 3
   },
   "file_extension": ".py",
   "mimetype": "text/x-python",
   "name": "python",
   "nbconvert_exporter": "python",
   "pygments_lexer": "ipython3",
   "version": "3.10.7"
  },
  "orig_nbformat": 4
 },
 "nbformat": 4,
 "nbformat_minor": 2
}
